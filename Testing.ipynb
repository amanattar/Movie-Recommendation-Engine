{
 "cells": [
  {
   "cell_type": "code",
   "execution_count": 1,
   "id": "d705c229",
   "metadata": {},
   "outputs": [],
   "source": [
    "import numpy as np\n",
    "import pandas as pd\n",
    "from flask import Flask, render_template, request\n",
    "from sklearn.feature_extraction.text import CountVectorizer\n",
    "from sklearn.metrics.pairwise import cosine_similarity\n",
    "import json\n",
    "import bs4 as bs\n",
    "import urllib.request\n",
    "import pickle\n",
    "import requests\n"
   ]
  },
  {
   "cell_type": "code",
   "execution_count": 2,
   "id": "6409e626",
   "metadata": {},
   "outputs": [],
   "source": [
    "def create_similarity():\n",
    "    data = pd.read_csv('main_data.csv')\n",
    "    # creating a count matrix\n",
    "    cv = CountVectorizer()\n",
    "    count_matrix = cv.fit_transform(data['comb'])\n",
    "    # creating a similarity score matrix\n",
    "    similarity = cosine_similarity(count_matrix)\n",
    "    return data,similarity\n",
    "\n",
    "def rcmd(m):\n",
    "    m = m.lower()\n",
    "    try:\n",
    "        data.head()\n",
    "        similarity.shape\n",
    "    except:\n",
    "        data, similarity = create_similarity()\n",
    "    if m not in data['movie_title'].unique():\n",
    "        return('Sorry! The movie you requested is not in our database. Please check the spelling or try with some other movies')\n",
    "    else:\n",
    "        i = data.loc[data['movie_title']==m].index[0]\n",
    "        lst = list(enumerate(similarity[i]))\n",
    "        lst = sorted(lst, key = lambda x:x[1] ,reverse=True)\n",
    "        lst = lst[1:11] # excluding first item since it is the requested movie itself\n",
    "        l = []\n",
    "        for i in range(len(lst)):\n",
    "            a = lst[i][0]\n",
    "            l.append(data['movie_title'][a])\n",
    "        return l\n",
    "    \n",
    "# converting list of string to list (eg. \"[\"abc\",\"def\"]\" to [\"abc\",\"def\"])\n",
    "def convert_to_list(my_list):\n",
    "    my_list = my_list.split('\",\"')\n",
    "    my_list[0] = my_list[0].replace('[\"','')\n",
    "    my_list[-1] = my_list[-1].replace('\"]','')\n",
    "    return my_list\n",
    "\n",
    "def get_suggestions():\n",
    "    data = pd.read_csv('main_data.csv')\n",
    "    return list(data['movie_title'].str.capitalize())\n"
   ]
  },
  {
   "cell_type": "code",
   "execution_count": 4,
   "id": "3f2eed0d",
   "metadata": {},
   "outputs": [
    {
     "data": {
      "text/plain": [
       "['furious 7',\n",
       " 'the fast and the furious',\n",
       " 'the fate of the furious',\n",
       " '2 fast 2 furious',\n",
       " 'takers',\n",
       " 'brick mansions',\n",
       " 'the death and life of bobby z',\n",
       " 'into the blue',\n",
       " 'a man apart',\n",
       " 'running scared']"
      ]
     },
     "execution_count": 4,
     "metadata": {},
     "output_type": "execute_result"
    }
   ],
   "source": [
    "movie = \"Fast Five\"\n",
    "rc = rcmd(movie)\n",
    "rc"
   ]
  },
  {
   "cell_type": "code",
   "execution_count": null,
   "id": "e69f0742",
   "metadata": {},
   "outputs": [],
   "source": []
  }
 ],
 "metadata": {
  "kernelspec": {
   "display_name": "Python 3",
   "language": "python",
   "name": "python3"
  },
  "language_info": {
   "codemirror_mode": {
    "name": "ipython",
    "version": 3
   },
   "file_extension": ".py",
   "mimetype": "text/x-python",
   "name": "python",
   "nbconvert_exporter": "python",
   "pygments_lexer": "ipython3",
   "version": "3.8.10"
  }
 },
 "nbformat": 4,
 "nbformat_minor": 5
}
